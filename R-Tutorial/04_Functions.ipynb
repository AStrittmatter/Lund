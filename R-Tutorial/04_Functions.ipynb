{
 "cells": [
  {
   "cell_type": "markdown",
   "id": "65af0075-cc5e-4be9-8b9e-0202da5f6742",
   "metadata": {},
   "source": [
    "# **Introduction to Functions in R**\n",
    "\n",
    "Functions are a fundamental concept in R programming. They allow you to encapsulate code into reusable blocks, making your code more organized and efficient. In this self-study tutorial, we cover the basics of creating and using functions in R.\n",
    "\n",
    "## What is a Function?\n",
    "\n",
    "A function is a block of code that performs a specific task. Functions can take inputs (called arguments or parameters), perform operations on those inputs, and return a result.\n",
    "\n",
    "## Creating a Function\n",
    "\n",
    "To create a function in R, you use the `function` keyword. Here’s the basic structure:\n",
    "\n",
    "```r\n",
    "my_function <- function(arg1, arg2) {\n",
    "  # Code to perform the task\n",
    "  result <- arg1 + arg2\n",
    "  return(result)\n",
    "}\n",
    "```\n",
    "\n",
    "In this example:\n",
    "- `my_function` is the name of the function.\n",
    "- `arg1` and `arg2` are arguments that the function takes.\n",
    "- The function adds the two arguments and returns the result."
   ]
  },
  {
   "cell_type": "markdown",
   "id": "59f3a9cd-fc3b-45e2-abdc-2ab9360a3ef8",
   "metadata": {},
   "source": [
    "### Example: Creating and Using a Simple Function\n",
    "\n",
    "Let's create a simple function that adds two numbers:"
   ]
  },
  {
   "cell_type": "code",
   "execution_count": 1,
   "id": "3082555a-10d9-4d9e-aa29-4222b4fd4194",
   "metadata": {
    "collapsed": true,
    "jupyter": {
     "outputs_hidden": true
    }
   },
   "outputs": [
    {
     "name": "stdout",
     "output_type": "stream",
     "text": [
      "[1] 8\n"
     ]
    }
   ],
   "source": [
    "############################################################################################\n",
    "\n",
    "# Define the function\n",
    "add_numbers <- function(x, y) {\n",
    "  sum <- x + y\n",
    "  return(sum)\n",
    "}\n",
    "\n",
    "# Use the function\n",
    "result <- add_numbers(5, 3)\n",
    "print(result)  # Output: 8\n",
    "\n",
    "############################################################################################"
   ]
  },
  {
   "cell_type": "markdown",
   "id": "7a0ac323-65ee-4162-b444-ae1d5e43b2bb",
   "metadata": {},
   "source": [
    "In this example, `add_numbers` is a function that takes two arguments, `x` and `y`, adds them, and returns the result.\n"
   ]
  },
  {
   "cell_type": "markdown",
   "id": "02d4c387-cc9a-4239-b322-a3d4d973740c",
   "metadata": {},
   "source": [
    "## Function Arguments\n",
    "\n",
    "You can define functions with default argument values. If the user doesn't provide a value for an argument, the default value is used.\n",
    "\n",
    "### Example: Function with Default Arguments"
   ]
  },
  {
   "cell_type": "code",
   "execution_count": 2,
   "id": "f7ca6ca7-643f-4007-a1b6-8a2e1d4e3c23",
   "metadata": {
    "collapsed": true,
    "jupyter": {
     "outputs_hidden": true
    }
   },
   "outputs": [
    {
     "name": "stdout",
     "output_type": "stream",
     "text": [
      "[1] \"Hello, Alice\"\n",
      "[1] \"Hello, Guest\"\n"
     ]
    }
   ],
   "source": [
    "############################################################################################\n",
    "\n",
    "# Define the function with default arguments\n",
    "greet <- function(name = \"Guest\") {\n",
    "  message <- paste(\"Hello,\", name)\n",
    "  return(message)\n",
    "}\n",
    "\n",
    "# Use the function with and without specifying the argument\n",
    "greeting1 <- greet(\"Alice\")\n",
    "greeting2 <- greet()\n",
    "\n",
    "print(greeting1)  # Output: \"Hello, Alice\"\n",
    "print(greeting2)  # Output: \"Hello, Guest\"\n",
    "\n",
    "############################################################################################"
   ]
  },
  {
   "cell_type": "markdown",
   "id": "baecce38-d35f-413f-af19-549d4afedc6e",
   "metadata": {},
   "source": [
    "In this example, the `greet` function has a default argument `name = \"Guest\"`. If no name is provided, it uses \"Guest\"."
   ]
  },
  {
   "cell_type": "markdown",
   "id": "3798bdac-4fa1-4f54-ad51-dba4cf925604",
   "metadata": {},
   "source": [
    "**Exercise:** Let R greet you. Write `<your name>` in the `greet` function.\n",
    "\n",
    "Fill in the `???` in the code below to complete the exercise."
   ]
  },
  {
   "cell_type": "code",
   "execution_count": 13,
   "id": "1a5c239b-5e3f-42b9-a80f-67ee8188a62c",
   "metadata": {
    "collapsed": true,
    "jupyter": {
     "outputs_hidden": true
    }
   },
   "outputs": [
    {
     "data": {
      "text/html": [
       "'Hello, ???'"
      ],
      "text/latex": [
       "'Hello, ???'"
      ],
      "text/markdown": [
       "'Hello, ???'"
      ],
      "text/plain": [
       "[1] \"Hello, ???\""
      ]
     },
     "metadata": {},
     "output_type": "display_data"
    }
   ],
   "source": [
    "############################################################################################\n",
    "\n",
    "greet(\"???\")\n",
    "\n",
    "############################################################################################"
   ]
  },
  {
   "cell_type": "markdown",
   "id": "09816b85-7708-4e24-829c-f9060bd1ca15",
   "metadata": {},
   "source": [
    "## Returning Values\n",
    "\n",
    "Functions can return multiple values using a list.\n",
    "\n",
    "### Example: Returning Multiple Values"
   ]
  },
  {
   "cell_type": "code",
   "execution_count": 5,
   "id": "5ec192cf-640f-445a-b071-3272f0ce5a4e",
   "metadata": {
    "collapsed": true,
    "jupyter": {
     "outputs_hidden": true
    }
   },
   "outputs": [
    {
     "name": "stdout",
     "output_type": "stream",
     "text": [
      "[1] 9\n",
      "[1] 20\n"
     ]
    }
   ],
   "source": [
    "############################################################################################\n",
    "\n",
    "# Define the function\n",
    "calculate <- function(a, b) {\n",
    "  sum <- a + b\n",
    "  product <- a * b\n",
    "  result <- list(sum = sum, product = product)\n",
    "  return(result)\n",
    "}\n",
    "\n",
    "# Use the function\n",
    "results <- calculate(4, 5)\n",
    "print(results$sum)      # Output: 9\n",
    "print(results$product)  # Output: 20\n",
    "\n",
    "############################################################################################"
   ]
  },
  {
   "cell_type": "markdown",
   "id": "eb17499a-e761-4839-b42c-b7d0132a1d8b",
   "metadata": {},
   "source": [
    "In this example, the `calculate` function returns both the sum and the product of the arguments as a list."
   ]
  },
  {
   "cell_type": "markdown",
   "id": "c2678b83-6176-4f68-859a-a5c9ee60fef7",
   "metadata": {},
   "source": [
    "**Exercise:** Return the product of 6 and 9.\n",
    "\n",
    "Fill in the `???` in the code below to complete the exercise."
   ]
  },
  {
   "cell_type": "code",
   "execution_count": 12,
   "id": "0b866a7d-2599-44de-b158-d32a6deb8022",
   "metadata": {
    "collapsed": true,
    "jupyter": {
     "outputs_hidden": true
    }
   },
   "outputs": [
    {
     "ename": "ERROR",
     "evalue": "Error in parse(text = x, srcfile = src): <text>:3:14: unexpected ','\n2: \n3: calculate(???,\n                ^\n",
     "output_type": "error",
     "traceback": [
      "Error in parse(text = x, srcfile = src): <text>:3:14: unexpected ','\n2: \n3: calculate(???,\n                ^\nTraceback:\n"
     ]
    }
   ],
   "source": [
    "############################################################################################\n",
    "\n",
    "calculate(???, ???)$product\n",
    "\n",
    "############################################################################################"
   ]
  },
  {
   "cell_type": "markdown",
   "id": "b43fce1f-bdbf-43c2-a1fe-ab6a002fb3a4",
   "metadata": {},
   "source": [
    "**Answer:** 54"
   ]
  },
  {
   "cell_type": "markdown",
   "id": "ba704e88-597f-41e2-aec7-f496dbd2d864",
   "metadata": {},
   "source": [
    "## Practical Example: Converting Fahrenheit to Celsius\n",
    "\n",
    "Let's create a practical function that converts temperatures from Fahrenheit to Celsius."
   ]
  },
  {
   "cell_type": "code",
   "execution_count": 8,
   "id": "ac0a296e-4463-4de6-9e4d-5b683a06c4ec",
   "metadata": {
    "collapsed": true,
    "jupyter": {
     "outputs_hidden": true
    }
   },
   "outputs": [
    {
     "name": "stdout",
     "output_type": "stream",
     "text": [
      "[1] 37\n"
     ]
    }
   ],
   "source": [
    "# Define the function\n",
    "fahrenheit_to_celsius <- function(fahrenheit) {\n",
    "  celsius <- (fahrenheit - 32) * 5 / 9\n",
    "  return(celsius)\n",
    "}\n",
    "\n",
    "# Use the function\n",
    "temp_f <- 98.6\n",
    "temp_c <- fahrenheit_to_celsius(temp_f)\n",
    "print(temp_c)  # Output: 37"
   ]
  },
  {
   "cell_type": "markdown",
   "id": "781b475d-caf3-4681-a6e3-3381ab14e703",
   "metadata": {},
   "source": [
    "In this example, the `fahrenheit_to_celsius` function takes a temperature in Fahrenheit and converts it to Celsius.\n"
   ]
  },
  {
   "cell_type": "markdown",
   "id": "9b44f731-3cf2-4c1d-9a50-55880fbd1c5f",
   "metadata": {},
   "source": [
    "**Exercise:** How much Celsius or 12o Fahrenheit?\n",
    "\n",
    "Fill in the `???` in the code below to complete the exercise."
   ]
  },
  {
   "cell_type": "code",
   "execution_count": 11,
   "id": "43339625-9dec-437e-ad91-1334724d6741",
   "metadata": {
    "collapsed": true,
    "jupyter": {
     "outputs_hidden": true
    }
   },
   "outputs": [
    {
     "ename": "ERROR",
     "evalue": "Error in parse(text = x, srcfile = src): <text>:3:26: unexpected ')'\n2: \n3: fahrenheit_to_celsius(???)\n                            ^\n",
     "output_type": "error",
     "traceback": [
      "Error in parse(text = x, srcfile = src): <text>:3:26: unexpected ')'\n2: \n3: fahrenheit_to_celsius(???)\n                            ^\nTraceback:\n"
     ]
    }
   ],
   "source": [
    "############################################################################################\n",
    "\n",
    "fahrenheit_to_celsius(???)\n",
    "\n",
    "############################################################################################"
   ]
  },
  {
   "cell_type": "markdown",
   "id": "342baa71-d57b-4ed2-abb0-ee4161198385",
   "metadata": {},
   "source": [
    "**Answer:** 48.8888888888889"
   ]
  },
  {
   "cell_type": "markdown",
   "id": "7054bea8-dac9-4f06-9a97-1623366246b1",
   "metadata": {},
   "source": [
    "## Exercise\n",
    "\n",
    "Create a function called `circle_area` that calculates the area of a circle given its radius. The formula for the area of a circle is `π * r^2`, where `r` is the radius. Use the function to calculate the area of a circle with a radius of 5.\n",
    "\n",
    "Fill in the `???` in the code below to complete the exercise."
   ]
  },
  {
   "cell_type": "code",
   "execution_count": 14,
   "id": "f1e42678-d7ec-4b84-8ca8-144e74b71485",
   "metadata": {
    "collapsed": true,
    "jupyter": {
     "outputs_hidden": true
    }
   },
   "outputs": [
    {
     "name": "stdout",
     "output_type": "stream",
     "text": [
      "[1] 78.53982\n"
     ]
    }
   ],
   "source": [
    "# Define the function\n",
    "circle_area <- function(r) {\n",
    "  area <- pi * ???\n",
    "  return(???)\n",
    "}\n",
    "\n",
    "# Use the function\n",
    "radius <- 5\n",
    "area <- circle_area(???)\n",
    "print(area)  # Output should be 78.54 (approximately, assuming π ≈ 3.14)"
   ]
  },
  {
   "cell_type": "markdown",
   "id": "746660f7-1efa-42e2-ae79-d0807d506fca",
   "metadata": {},
   "source": [
    "**Answer:** 78.53982"
   ]
  }
 ],
 "metadata": {
  "kernelspec": {
   "display_name": "R",
   "language": "R",
   "name": "ir"
  },
  "language_info": {
   "codemirror_mode": "r",
   "file_extension": ".r",
   "mimetype": "text/x-r-source",
   "name": "R",
   "pygments_lexer": "r",
   "version": "4.3.3"
  }
 },
 "nbformat": 4,
 "nbformat_minor": 5
}
