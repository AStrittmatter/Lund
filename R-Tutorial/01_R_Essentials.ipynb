{
 "cells": [
  {
   "cell_type": "markdown",
   "id": "bb6f7cd0-e9f5-4e75-8a23-bd4aadf30e35",
   "metadata": {},
   "source": [
    "# **R Essentials**\n",
    "\n",
    "In this self-study, you will analyze flight arrival delays using the `nycflights13` dataset, which includes all flights to and from New York City in 2013. This tutorial will guide you through the process of loading necessary packages and data, displaying the dataset, and extracting key features such as sample size and the number of variables. For a more comprehensive introduction to R that extends beyond this tutorial, please refer to this resource."
   ]
  },
  {
   "cell_type": "markdown",
   "id": "5b8c996c-80a2-4981-bea7-75f0ea852897",
   "metadata": {},
   "source": [
    "##  Loading Packages\n",
    "\n",
    "In R, packages are collections of functions, data, and code that extend the capabilities of R. They are like add-ons that provide additional tools and features.\n",
    "\n",
    "Before you can use a package, you need to install it on your local computer. However, for this self-study, we have already installed the necessary packages for you on our JupyterHub cloud.\n",
    "\n",
    "For this tutorial, we will load two essential packages:\n",
    "\n",
    "1. `tidyverse` This is a group of R packages designed to make working with data easier. It includes tools for data cleaning, visualization, and analysis.\n",
    "3. `nycflights13` This package contains the `flights` dataset, which provides information about flights leaving New York City airports in 2013. This dataset is useful for practicing data analysis and visualization techniques in R.\n",
    "\n",
    "By loading these packages, we ensure we have everything we need to start our data analysis."
   ]
  },
  {
   "cell_type": "code",
   "execution_count": 1,
   "id": "c2a4f73e-0e2a-475d-aa35-18330206627a",
   "metadata": {
    "collapsed": true,
    "jupyter": {
     "outputs_hidden": true
    }
   },
   "outputs": [
    {
     "name": "stderr",
     "output_type": "stream",
     "text": [
      "── \u001b[1mAttaching core tidyverse packages\u001b[22m ──────────────────────── tidyverse 2.0.0 ──\n",
      "\u001b[32m✔\u001b[39m \u001b[34mdplyr    \u001b[39m 1.1.4     \u001b[32m✔\u001b[39m \u001b[34mreadr    \u001b[39m 2.1.5\n",
      "\u001b[32m✔\u001b[39m \u001b[34mforcats  \u001b[39m 1.0.0     \u001b[32m✔\u001b[39m \u001b[34mstringr  \u001b[39m 1.5.1\n",
      "\u001b[32m✔\u001b[39m \u001b[34mggplot2  \u001b[39m 3.5.1     \u001b[32m✔\u001b[39m \u001b[34mtibble   \u001b[39m 3.2.1\n",
      "\u001b[32m✔\u001b[39m \u001b[34mlubridate\u001b[39m 1.9.3     \u001b[32m✔\u001b[39m \u001b[34mtidyr    \u001b[39m 1.3.1\n",
      "\u001b[32m✔\u001b[39m \u001b[34mpurrr    \u001b[39m 1.0.2     \n",
      "── \u001b[1mConflicts\u001b[22m ────────────────────────────────────────── tidyverse_conflicts() ──\n",
      "\u001b[31m✖\u001b[39m \u001b[34mdplyr\u001b[39m::\u001b[32mfilter()\u001b[39m masks \u001b[34mstats\u001b[39m::filter()\n",
      "\u001b[31m✖\u001b[39m \u001b[34mdplyr\u001b[39m::\u001b[32mlag()\u001b[39m    masks \u001b[34mstats\u001b[39m::lag()\n",
      "\u001b[36mℹ\u001b[39m Use the conflicted package (\u001b[3m\u001b[34m<http://conflicted.r-lib.org/>\u001b[39m\u001b[23m) to force all conflicts to become errors\n"
     ]
    },
    {
     "name": "stdout",
     "output_type": "stream",
     "text": [
      "[1] \"packages loaded\"\n"
     ]
    }
   ],
   "source": [
    "############################################################################################\n",
    "\n",
    "# Load the tidyverse package, a collection of R packages for data science\n",
    "library(tidyverse)\n",
    "\n",
    "# Load the nycflights13 package, which includes the flights dataset\n",
    "library(nycflights13)\n",
    "\n",
    "print(\"packages loaded\")\n",
    "\n",
    "############################################################################################"
   ]
  },
  {
   "cell_type": "markdown",
   "id": "ae1adb24-5d22-4878-ae52-2ca7493e59b0",
   "metadata": {},
   "source": [
    "## Description of Key Variables in the Dataset\n",
    "\n",
    "The `flights` dataset from the `nycflights13` package contains detailed information about flights departing from New York City airports (EWR, JFK, and LGA) in 2013. Below are descriptions of the key variables used in this and the following tutorial:\n",
    "\n",
    "- **dep_delay**: Departure delay in minutes. Negative values indicate flights that departed early.\n",
    "- **arr_delay**: Arrival delay in minutes. Negative values indicate flights that arrived early.\n",
    "- **carrier**: The carrier (airline) code.\n",
    "- **origin**: The airport of origin (EWR, JFK, LGA).\n",
    "- **dest**: The destination airport.\n",
    "- **air_time**: The amount of time the flight was in the air, in minutes.\n",
    "- **distance**: The distance between the origin and destination airports, in miles.\n",
    "- **month**: The month of the flight (1-12).\n",
    "- **day**: The day of the month (1-31)."
   ]
  },
  {
   "cell_type": "markdown",
   "id": "c1a277fe-ea45-4ce9-9225-7c1dd7fa9f9e",
   "metadata": {},
   "source": [
    "## Initial Dataset Overview of the Dataset\n",
    "\n",
    "When starting data analysis with the `flights` dataset from the `nycflights13` package, it's important to understand the data's structure and content. This section will guide you through the initial steps to explore the dataset."
   ]
  },
  {
   "cell_type": "markdown",
   "id": "2356dbb0-8572-4568-8dea-30218f033f4f",
   "metadata": {},
   "source": [
    "### View Dataset Structure\n",
    "\n",
    "To get a quick look at the dataset, you can use the `head()` function. This function shows the first six rows of the dataset, including the names of the columns and the types of data they contain. For example:"
   ]
  },
  {
   "cell_type": "code",
   "execution_count": 2,
   "id": "d752634f-2a54-4658-bb12-29c08b4532db",
   "metadata": {
    "collapsed": true,
    "jupyter": {
     "outputs_hidden": true
    }
   },
   "outputs": [
    {
     "data": {
      "text/html": [
       "<table class=\"dataframe\">\n",
       "<caption>A tibble: 6 × 19</caption>\n",
       "<thead>\n",
       "\t<tr><th scope=col>year</th><th scope=col>month</th><th scope=col>day</th><th scope=col>dep_time</th><th scope=col>sched_dep_time</th><th scope=col>dep_delay</th><th scope=col>arr_time</th><th scope=col>sched_arr_time</th><th scope=col>arr_delay</th><th scope=col>carrier</th><th scope=col>flight</th><th scope=col>tailnum</th><th scope=col>origin</th><th scope=col>dest</th><th scope=col>air_time</th><th scope=col>distance</th><th scope=col>hour</th><th scope=col>minute</th><th scope=col>time_hour</th></tr>\n",
       "\t<tr><th scope=col>&lt;int&gt;</th><th scope=col>&lt;int&gt;</th><th scope=col>&lt;int&gt;</th><th scope=col>&lt;int&gt;</th><th scope=col>&lt;int&gt;</th><th scope=col>&lt;dbl&gt;</th><th scope=col>&lt;int&gt;</th><th scope=col>&lt;int&gt;</th><th scope=col>&lt;dbl&gt;</th><th scope=col>&lt;chr&gt;</th><th scope=col>&lt;int&gt;</th><th scope=col>&lt;chr&gt;</th><th scope=col>&lt;chr&gt;</th><th scope=col>&lt;chr&gt;</th><th scope=col>&lt;dbl&gt;</th><th scope=col>&lt;dbl&gt;</th><th scope=col>&lt;dbl&gt;</th><th scope=col>&lt;dbl&gt;</th><th scope=col>&lt;dttm&gt;</th></tr>\n",
       "</thead>\n",
       "<tbody>\n",
       "\t<tr><td>2013</td><td>1</td><td>1</td><td>517</td><td>515</td><td> 2</td><td> 830</td><td> 819</td><td> 11</td><td>UA</td><td>1545</td><td>N14228</td><td>EWR</td><td>IAH</td><td>227</td><td>1400</td><td>5</td><td>15</td><td>2013-01-01 05:00:00</td></tr>\n",
       "\t<tr><td>2013</td><td>1</td><td>1</td><td>533</td><td>529</td><td> 4</td><td> 850</td><td> 830</td><td> 20</td><td>UA</td><td>1714</td><td>N24211</td><td>LGA</td><td>IAH</td><td>227</td><td>1416</td><td>5</td><td>29</td><td>2013-01-01 05:00:00</td></tr>\n",
       "\t<tr><td>2013</td><td>1</td><td>1</td><td>542</td><td>540</td><td> 2</td><td> 923</td><td> 850</td><td> 33</td><td>AA</td><td>1141</td><td>N619AA</td><td>JFK</td><td>MIA</td><td>160</td><td>1089</td><td>5</td><td>40</td><td>2013-01-01 05:00:00</td></tr>\n",
       "\t<tr><td>2013</td><td>1</td><td>1</td><td>544</td><td>545</td><td>-1</td><td>1004</td><td>1022</td><td>-18</td><td>B6</td><td> 725</td><td>N804JB</td><td>JFK</td><td>BQN</td><td>183</td><td>1576</td><td>5</td><td>45</td><td>2013-01-01 05:00:00</td></tr>\n",
       "\t<tr><td>2013</td><td>1</td><td>1</td><td>554</td><td>600</td><td>-6</td><td> 812</td><td> 837</td><td>-25</td><td>DL</td><td> 461</td><td>N668DN</td><td>LGA</td><td>ATL</td><td>116</td><td> 762</td><td>6</td><td> 0</td><td>2013-01-01 06:00:00</td></tr>\n",
       "\t<tr><td>2013</td><td>1</td><td>1</td><td>554</td><td>558</td><td>-4</td><td> 740</td><td> 728</td><td> 12</td><td>UA</td><td>1696</td><td>N39463</td><td>EWR</td><td>ORD</td><td>150</td><td> 719</td><td>5</td><td>58</td><td>2013-01-01 05:00:00</td></tr>\n",
       "</tbody>\n",
       "</table>\n"
      ],
      "text/latex": [
       "A tibble: 6 × 19\n",
       "\\begin{tabular}{lllllllllllllllllll}\n",
       " year & month & day & dep\\_time & sched\\_dep\\_time & dep\\_delay & arr\\_time & sched\\_arr\\_time & arr\\_delay & carrier & flight & tailnum & origin & dest & air\\_time & distance & hour & minute & time\\_hour\\\\\n",
       " <int> & <int> & <int> & <int> & <int> & <dbl> & <int> & <int> & <dbl> & <chr> & <int> & <chr> & <chr> & <chr> & <dbl> & <dbl> & <dbl> & <dbl> & <dttm>\\\\\n",
       "\\hline\n",
       "\t 2013 & 1 & 1 & 517 & 515 &  2 &  830 &  819 &  11 & UA & 1545 & N14228 & EWR & IAH & 227 & 1400 & 5 & 15 & 2013-01-01 05:00:00\\\\\n",
       "\t 2013 & 1 & 1 & 533 & 529 &  4 &  850 &  830 &  20 & UA & 1714 & N24211 & LGA & IAH & 227 & 1416 & 5 & 29 & 2013-01-01 05:00:00\\\\\n",
       "\t 2013 & 1 & 1 & 542 & 540 &  2 &  923 &  850 &  33 & AA & 1141 & N619AA & JFK & MIA & 160 & 1089 & 5 & 40 & 2013-01-01 05:00:00\\\\\n",
       "\t 2013 & 1 & 1 & 544 & 545 & -1 & 1004 & 1022 & -18 & B6 &  725 & N804JB & JFK & BQN & 183 & 1576 & 5 & 45 & 2013-01-01 05:00:00\\\\\n",
       "\t 2013 & 1 & 1 & 554 & 600 & -6 &  812 &  837 & -25 & DL &  461 & N668DN & LGA & ATL & 116 &  762 & 6 &  0 & 2013-01-01 06:00:00\\\\\n",
       "\t 2013 & 1 & 1 & 554 & 558 & -4 &  740 &  728 &  12 & UA & 1696 & N39463 & EWR & ORD & 150 &  719 & 5 & 58 & 2013-01-01 05:00:00\\\\\n",
       "\\end{tabular}\n"
      ],
      "text/markdown": [
       "\n",
       "A tibble: 6 × 19\n",
       "\n",
       "| year &lt;int&gt; | month &lt;int&gt; | day &lt;int&gt; | dep_time &lt;int&gt; | sched_dep_time &lt;int&gt; | dep_delay &lt;dbl&gt; | arr_time &lt;int&gt; | sched_arr_time &lt;int&gt; | arr_delay &lt;dbl&gt; | carrier &lt;chr&gt; | flight &lt;int&gt; | tailnum &lt;chr&gt; | origin &lt;chr&gt; | dest &lt;chr&gt; | air_time &lt;dbl&gt; | distance &lt;dbl&gt; | hour &lt;dbl&gt; | minute &lt;dbl&gt; | time_hour &lt;dttm&gt; |\n",
       "|---|---|---|---|---|---|---|---|---|---|---|---|---|---|---|---|---|---|---|\n",
       "| 2013 | 1 | 1 | 517 | 515 |  2 |  830 |  819 |  11 | UA | 1545 | N14228 | EWR | IAH | 227 | 1400 | 5 | 15 | 2013-01-01 05:00:00 |\n",
       "| 2013 | 1 | 1 | 533 | 529 |  4 |  850 |  830 |  20 | UA | 1714 | N24211 | LGA | IAH | 227 | 1416 | 5 | 29 | 2013-01-01 05:00:00 |\n",
       "| 2013 | 1 | 1 | 542 | 540 |  2 |  923 |  850 |  33 | AA | 1141 | N619AA | JFK | MIA | 160 | 1089 | 5 | 40 | 2013-01-01 05:00:00 |\n",
       "| 2013 | 1 | 1 | 544 | 545 | -1 | 1004 | 1022 | -18 | B6 |  725 | N804JB | JFK | BQN | 183 | 1576 | 5 | 45 | 2013-01-01 05:00:00 |\n",
       "| 2013 | 1 | 1 | 554 | 600 | -6 |  812 |  837 | -25 | DL |  461 | N668DN | LGA | ATL | 116 |  762 | 6 |  0 | 2013-01-01 06:00:00 |\n",
       "| 2013 | 1 | 1 | 554 | 558 | -4 |  740 |  728 |  12 | UA | 1696 | N39463 | EWR | ORD | 150 |  719 | 5 | 58 | 2013-01-01 05:00:00 |\n",
       "\n"
      ],
      "text/plain": [
       "  year month day dep_time sched_dep_time dep_delay arr_time sched_arr_time\n",
       "1 2013 1     1   517      515             2         830      819          \n",
       "2 2013 1     1   533      529             4         850      830          \n",
       "3 2013 1     1   542      540             2         923      850          \n",
       "4 2013 1     1   544      545            -1        1004     1022          \n",
       "5 2013 1     1   554      600            -6         812      837          \n",
       "6 2013 1     1   554      558            -4         740      728          \n",
       "  arr_delay carrier flight tailnum origin dest air_time distance hour minute\n",
       "1  11       UA      1545   N14228  EWR    IAH  227      1400     5    15    \n",
       "2  20       UA      1714   N24211  LGA    IAH  227      1416     5    29    \n",
       "3  33       AA      1141   N619AA  JFK    MIA  160      1089     5    40    \n",
       "4 -18       B6       725   N804JB  JFK    BQN  183      1576     5    45    \n",
       "5 -25       DL       461   N668DN  LGA    ATL  116       762     6     0    \n",
       "6  12       UA      1696   N39463  EWR    ORD  150       719     5    58    \n",
       "  time_hour          \n",
       "1 2013-01-01 05:00:00\n",
       "2 2013-01-01 05:00:00\n",
       "3 2013-01-01 05:00:00\n",
       "4 2013-01-01 05:00:00\n",
       "5 2013-01-01 06:00:00\n",
       "6 2013-01-01 05:00:00"
      ]
     },
     "metadata": {},
     "output_type": "display_data"
    }
   ],
   "source": [
    "############################################################################################\n",
    "\n",
    "# Ploting the first six rows of the dataset 'flights'\n",
    "head(flights)\n",
    "\n",
    "############################################################################################"
   ]
  },
  {
   "cell_type": "markdown",
   "id": "681f280d-a3e8-416d-b14c-507e1f12e5ec",
   "metadata": {},
   "source": [
    "This `head` command will display the first six rows of the flights dataset, giving you an idea of its structure and the types of information it includes. For instance, you might see a column named `dep_time` which represents the departure time of each flight. This column will show times as integers, like 517 for 5:17 AM."
   ]
  },
  {
   "cell_type": "markdown",
   "id": "590f8e99-ad3b-4c7d-ad9f-02ffdfad2368",
   "metadata": {},
   "source": [
    "**Exercise:** Look at the last six rows of the `flight` dataset. \n",
    "\n",
    "Fill in the `???` in the code below to complete the exercise."
   ]
  },
  {
   "cell_type": "code",
   "execution_count": 3,
   "id": "476f2e7b-87e5-4222-995b-07853096ba09",
   "metadata": {
    "collapsed": true,
    "jupyter": {
     "outputs_hidden": true
    }
   },
   "outputs": [
    {
     "ename": "ERROR",
     "evalue": "Error in parse(text = x, srcfile = src): <text>:4:9: unexpected ')'\n3: # Displaying the last six rows of the dataset\n4: tail(???)\n           ^\n",
     "output_type": "error",
     "traceback": [
      "Error in parse(text = x, srcfile = src): <text>:4:9: unexpected ')'\n3: # Displaying the last six rows of the dataset\n4: tail(???)\n           ^\nTraceback:\n"
     ]
    }
   ],
   "source": [
    "############################################################################################\n",
    "\n",
    "# Displaying the last six rows of the dataset\n",
    "tail(???)\n",
    "\n",
    "############################################################################################"
   ]
  },
  {
   "cell_type": "markdown",
   "id": "52963632-cecc-490f-b934-cf12d14dc9c6",
   "metadata": {},
   "source": [
    "### Dataset Summary\n",
    "\n",
    "Understanding the descriptive statistics of your dataset is an important first step in data analysis. The `summary()` function in R provides a quick overview of each column in the dataset. This includes key statistics for numbers (like minimum, mean, and maximum values) and counts for categories.\n",
    "\n",
    "To get a summary of the entire flights dataset, use this command:"
   ]
  },
  {
   "cell_type": "code",
   "execution_count": null,
   "id": "9793f51c-2e33-4646-ace7-978a45f97f1f",
   "metadata": {
    "collapsed": true,
    "jupyter": {
     "outputs_hidden": true
    }
   },
   "outputs": [],
   "source": [
    "############################################################################################\n",
    "\n",
    "# Descriptive statistics for all variables in the dataset\n",
    "summary(flights)\n",
    "\n",
    "############################################################################################"
   ]
  },
  {
   "cell_type": "markdown",
   "id": "879afc18-8f55-4f2b-8c52-b79cc1b75f65",
   "metadata": {},
   "source": [
    "This `summary()` command will show a detailed overview of each column, helping you spot any unusual values and understand how the data is spread out."
   ]
  },
  {
   "cell_type": "markdown",
   "id": "98aaee24-65d1-430b-8133-030cb276ba45",
   "metadata": {},
   "source": [
    "### Extracting Single Variables from the Dataset\n",
    "\n",
    "In R, you can look at a single column from a dataset using the `$` sign. This is helpful when you want to focus on one specific part of your data.\n",
    "\n",
    "**Example:**  \n",
    "To look at the `dep_delay` (departure delay) column from the flights dataset, use this command: `flights$dep_delay`. Here, `flights` is the dataset, and `dep_delay` is the column name. The `$` sign tells R to look at just this one column."
   ]
  },
  {
   "cell_type": "markdown",
   "id": "0f0d3d73-6ed2-494a-a09f-3d6e143a6e82",
   "metadata": {},
   "source": [
    "### Generating a Summary for a Single Variable\n",
    "\n",
    "After you extract a single column, you can use the `summary()` function to get more details about that column.\n",
    "\n",
    "**Example:** \n",
    "To get a summary of the `dep_delay` column, use this command:"
   ]
  },
  {
   "cell_type": "code",
   "execution_count": null,
   "id": "7cb1bae7-edf2-420c-ae33-04761eca995b",
   "metadata": {
    "collapsed": true,
    "jupyter": {
     "outputs_hidden": true
    }
   },
   "outputs": [],
   "source": [
    "############################################################################################\n",
    "\n",
    "# Plotting descriptive statistics of the variable 'dep_delay'\n",
    "summary(flights$dep_delay)\n",
    "\n",
    "############################################################################################"
   ]
  },
  {
   "cell_type": "markdown",
   "id": "c4956cb3-95af-46b8-9de8-a6134d9d1797",
   "metadata": {},
   "source": [
    "This command shows:\n",
    "\n",
    "* *Min:* The shortest delay is -43 minutes (some flights left early).\n",
    "* *1st Qu.:* 25% of flights had a delay of -5 minutes or less.\n",
    "* *Median:* The middle delay value is 2 minutes.\n",
    "* *Mean:* The average delay is about 12.64 minutes.\n",
    "* *3rd Qu.:* 75% of flights had a delay of 15 minutes or less.\n",
    "* *Max:* The longest delay is 1301 minutes.\n",
    "* *NA's:* There are 8255 missing values in the `dep_delay` column.\n",
    "\n",
    "This `summary()` command helps you understand how departure delays vary and spot any patterns in the data."
   ]
  },
  {
   "cell_type": "markdown",
   "id": "3e22e041-5c38-45a3-bc30-436f925d5c39",
   "metadata": {},
   "source": [
    "**Exercise:** Plot descriptive statistics of the variable `distance`. What is the median distance?\n",
    "\n",
    "Fill in the `???` in the code below to complete the exercise."
   ]
  },
  {
   "cell_type": "code",
   "execution_count": 6,
   "id": "ee4c2a54-e580-4b16-b0b5-e3959c155b97",
   "metadata": {
    "collapsed": true,
    "jupyter": {
     "outputs_hidden": true
    }
   },
   "outputs": [
    {
     "ename": "ERROR",
     "evalue": "Error in parse(text = x, srcfile = src): <text>:4:12: unexpected '$'\n3: # Plotting descriptive statistics of the variable 'distance'\n4: summary(???$\n              ^\n",
     "output_type": "error",
     "traceback": [
      "Error in parse(text = x, srcfile = src): <text>:4:12: unexpected '$'\n3: # Plotting descriptive statistics of the variable 'distance'\n4: summary(???$\n              ^\nTraceback:\n"
     ]
    }
   ],
   "source": [
    "############################################################################################\n",
    "\n",
    "# Plotting descriptive statistics of the variable 'distance'\n",
    "summary(???$???)\n",
    "\n",
    "############################################################################################"
   ]
  },
  {
   "cell_type": "markdown",
   "id": "6029b453-bdb9-46ba-bc0a-ddf5f12c99fb",
   "metadata": {},
   "source": [
    "**Answer:** 872 miles"
   ]
  },
  {
   "cell_type": "markdown",
   "id": "9ef2645d-99b0-4446-b9b8-910ae463b916",
   "metadata": {},
   "source": [
    "## Summarizing Data by Groups\n",
    "\n",
    "To generate summary statistics, use the `summarize()` function along with `group_by()`. For example, to find the average departure delay for each airline:"
   ]
  },
  {
   "cell_type": "code",
   "execution_count": null,
   "id": "02b6049b-480c-44c3-a0ad-80b9ec659025",
   "metadata": {
    "collapsed": true,
    "jupyter": {
     "outputs_hidden": true
    }
   },
   "outputs": [],
   "source": [
    "############################################################################################\n",
    "\n",
    "# Calculating the average departure delay for each airline\n",
    "summarize(group_by(flights, carrier), avg_dep_delay = mean(dep_delay, na.rm = TRUE))\n",
    "\n",
    "############################################################################################"
   ]
  },
  {
   "cell_type": "markdown",
   "id": "0dacec0e-9ca2-4950-84ed-2a89b2d151f1",
   "metadata": {},
   "source": [
    "This command groups the data by the `carrier` column and then calculates the average departure delay (`dep_delay`) for each airline, ignoring missing values (`na.rm = TRUE`). The result is stored in the `avg_dep_delay` dataset."
   ]
  },
  {
   "cell_type": "markdown",
   "id": "0418f4ae-a698-4583-aa81-024760f93bae",
   "metadata": {},
   "source": [
    "## Number of Rows and Columns\n",
    "\n",
    "Understanding the size of your dataset is crucial for effective data analysis and manipulation. The dimensions of the dataset represent the sample size (number of rows) and the number of variables (number of columns).\n",
    "\n",
    "To find out the dimensions of your dataset, you can use the `dim()` function:"
   ]
  },
  {
   "cell_type": "code",
   "execution_count": 9,
   "id": "644c3fcd-5361-4bb1-a0db-5894cecd138e",
   "metadata": {
    "collapsed": true,
    "jupyter": {
     "outputs_hidden": true
    }
   },
   "outputs": [
    {
     "data": {
      "text/html": [
       "<style>\n",
       ".list-inline {list-style: none; margin:0; padding: 0}\n",
       ".list-inline>li {display: inline-block}\n",
       ".list-inline>li:not(:last-child)::after {content: \"\\00b7\"; padding: 0 .5ex}\n",
       "</style>\n",
       "<ol class=list-inline><li>336776</li><li>19</li></ol>\n"
      ],
      "text/latex": [
       "\\begin{enumerate*}\n",
       "\\item 336776\n",
       "\\item 19\n",
       "\\end{enumerate*}\n"
      ],
      "text/markdown": [
       "1. 336776\n",
       "2. 19\n",
       "\n",
       "\n"
      ],
      "text/plain": [
       "[1] 336776     19"
      ]
     },
     "metadata": {},
     "output_type": "display_data"
    }
   ],
   "source": [
    "############################################################################################\n",
    "\n",
    "# Dimensions of the dataset\n",
    "dim(flights)\n",
    "\n",
    "############################################################################################"
   ]
  },
  {
   "cell_type": "markdown",
   "id": "12129130-ba7b-428a-b044-fb295f3b363b",
   "metadata": {},
   "source": [
    "This command will return two numbers:\n",
    "- The first number is the number of rows, representing the sample size or the total number of observations.\n",
    "- The second number is the number of columns, representing the number of variables or different types of information collected in the dataset.\n",
    "\n",
    "Alternatively, you can use the `nrow()` and `ncol()` functions to get these numbers separately:"
   ]
  },
  {
   "cell_type": "code",
   "execution_count": 10,
   "id": "5682c6a4-2018-4294-b659-88e0592801a5",
   "metadata": {
    "collapsed": true,
    "jupyter": {
     "outputs_hidden": true
    }
   },
   "outputs": [
    {
     "data": {
      "text/html": [
       "336776"
      ],
      "text/latex": [
       "336776"
      ],
      "text/markdown": [
       "336776"
      ],
      "text/plain": [
       "[1] 336776"
      ]
     },
     "metadata": {},
     "output_type": "display_data"
    },
    {
     "data": {
      "text/html": [
       "19"
      ],
      "text/latex": [
       "19"
      ],
      "text/markdown": [
       "19"
      ],
      "text/plain": [
       "[1] 19"
      ]
     },
     "metadata": {},
     "output_type": "display_data"
    }
   ],
   "source": [
    "############################################################################################\n",
    "\n",
    "nrow(flights)  # Gives the number of rows (sample size)\n",
    "ncol(flights)  # Gives the number of columns (variables)\n",
    "\n",
    "############################################################################################"
   ]
  },
  {
   "cell_type": "markdown",
   "id": "b6066e66-543e-40f6-b80b-cecd84ce6e0c",
   "metadata": {},
   "source": [
    "\n",
    "Understanding these dimensions helps you grasp the scope of your dataset, influencing how you approach data cleaning, visualization, and analysis tasks."
   ]
  },
  {
   "cell_type": "markdown",
   "id": "a195aa00-07da-4a4d-895b-b4bce51e13b6",
   "metadata": {},
   "source": [
    "### Column Names\n",
    "\n",
    "Listing all column names can help you quickly identify which variables are available for analysis. You can use the `colnames()` function to list all the column names in your dataset:"
   ]
  },
  {
   "cell_type": "code",
   "execution_count": 11,
   "id": "23915ac0-6994-48cc-a258-76c68cf2eb82",
   "metadata": {
    "collapsed": true,
    "jupyter": {
     "outputs_hidden": true
    }
   },
   "outputs": [
    {
     "data": {
      "text/html": [
       "<style>\n",
       ".list-inline {list-style: none; margin:0; padding: 0}\n",
       ".list-inline>li {display: inline-block}\n",
       ".list-inline>li:not(:last-child)::after {content: \"\\00b7\"; padding: 0 .5ex}\n",
       "</style>\n",
       "<ol class=list-inline><li>'year'</li><li>'month'</li><li>'day'</li><li>'dep_time'</li><li>'sched_dep_time'</li><li>'dep_delay'</li><li>'arr_time'</li><li>'sched_arr_time'</li><li>'arr_delay'</li><li>'carrier'</li><li>'flight'</li><li>'tailnum'</li><li>'origin'</li><li>'dest'</li><li>'air_time'</li><li>'distance'</li><li>'hour'</li><li>'minute'</li><li>'time_hour'</li></ol>\n"
      ],
      "text/latex": [
       "\\begin{enumerate*}\n",
       "\\item 'year'\n",
       "\\item 'month'\n",
       "\\item 'day'\n",
       "\\item 'dep\\_time'\n",
       "\\item 'sched\\_dep\\_time'\n",
       "\\item 'dep\\_delay'\n",
       "\\item 'arr\\_time'\n",
       "\\item 'sched\\_arr\\_time'\n",
       "\\item 'arr\\_delay'\n",
       "\\item 'carrier'\n",
       "\\item 'flight'\n",
       "\\item 'tailnum'\n",
       "\\item 'origin'\n",
       "\\item 'dest'\n",
       "\\item 'air\\_time'\n",
       "\\item 'distance'\n",
       "\\item 'hour'\n",
       "\\item 'minute'\n",
       "\\item 'time\\_hour'\n",
       "\\end{enumerate*}\n"
      ],
      "text/markdown": [
       "1. 'year'\n",
       "2. 'month'\n",
       "3. 'day'\n",
       "4. 'dep_time'\n",
       "5. 'sched_dep_time'\n",
       "6. 'dep_delay'\n",
       "7. 'arr_time'\n",
       "8. 'sched_arr_time'\n",
       "9. 'arr_delay'\n",
       "10. 'carrier'\n",
       "11. 'flight'\n",
       "12. 'tailnum'\n",
       "13. 'origin'\n",
       "14. 'dest'\n",
       "15. 'air_time'\n",
       "16. 'distance'\n",
       "17. 'hour'\n",
       "18. 'minute'\n",
       "19. 'time_hour'\n",
       "\n",
       "\n"
      ],
      "text/plain": [
       " [1] \"year\"           \"month\"          \"day\"            \"dep_time\"      \n",
       " [5] \"sched_dep_time\" \"dep_delay\"      \"arr_time\"       \"sched_arr_time\"\n",
       " [9] \"arr_delay\"      \"carrier\"        \"flight\"         \"tailnum\"       \n",
       "[13] \"origin\"         \"dest\"           \"air_time\"       \"distance\"      \n",
       "[17] \"hour\"           \"minute\"         \"time_hour\"     "
      ]
     },
     "metadata": {},
     "output_type": "display_data"
    }
   ],
   "source": [
    "############################################################################################\n",
    "\n",
    "# Column names of dataset\n",
    "colnames(flights)\n",
    "\n",
    "############################################################################################"
   ]
  },
  {
   "cell_type": "markdown",
   "id": "f8723c5c-1410-4216-ac08-4819a20068f2",
   "metadata": {},
   "source": [
    "This command will display a list of all the column names in the `flights` dataset, allowing you to see the different types of information available for analysis. Knowing the column names is useful when you want to reference specific variables in your data manipulation and analysis tasks."
   ]
  },
  {
   "cell_type": "markdown",
   "id": "1fd538a1-d7dd-4957-ab12-edf0f10be953",
   "metadata": {},
   "source": [
    "## Help Files\n",
    "\n",
    "Using `help` commands in R, we can access detailed documentation on different packages and commands. This documentation provides further information about the functions and tools included in the package or command, either directly or through web links.\n",
    "\n",
    "For example, to access the help file for the `summary` function, you can use the following command in R:"
   ]
  },
  {
   "cell_type": "code",
   "execution_count": 12,
   "id": "0bbdc550-5432-496d-88fb-442a9f482fa5",
   "metadata": {
    "collapsed": true,
    "jupyter": {
     "outputs_hidden": true
    }
   },
   "outputs": [
    {
     "data": {
      "text/html": [
       "\n",
       "<table style=\"width: 100%;\"><tr><td>summary {base}</td><td style=\"text-align: right;\">R Documentation</td></tr></table>\n",
       "\n",
       "<h2 id='summary'>Object Summaries</h2>\n",
       "\n",
       "<h3>Description</h3>\n",
       "\n",
       "<p><code>summary</code> is a generic function used to produce result summaries\n",
       "of the results of various model fitting functions.  The function\n",
       "invokes particular <code>methods</code> which depend on the\n",
       "<code>class</code> of the first argument.\n",
       "</p>\n",
       "\n",
       "\n",
       "<h3>Usage</h3>\n",
       "\n",
       "<pre><code class='language-R'>summary(object, ...)\n",
       "\n",
       "## Default S3 method:\n",
       "summary(object, ..., digits, quantile.type = 7)\n",
       "## S3 method for class 'data.frame'\n",
       "summary(object, maxsum = 7,\n",
       "       digits = max(3, getOption(\"digits\")-3), ...)\n",
       "\n",
       "## S3 method for class 'factor'\n",
       "summary(object, maxsum = 100, ...)\n",
       "\n",
       "## S3 method for class 'matrix'\n",
       "summary(object, ...)\n",
       "\n",
       "## S3 method for class 'summaryDefault'\n",
       "format(x, digits = max(3L, getOption(\"digits\") - 3L), ...)\n",
       " ## S3 method for class 'summaryDefault'\n",
       "print(x, digits = max(3L, getOption(\"digits\") - 3L), ...)\n",
       "</code></pre>\n",
       "\n",
       "\n",
       "<h3>Arguments</h3>\n",
       "\n",
       "<table>\n",
       "<tr><td><code id=\"summary_:_object\">object</code></td>\n",
       "<td>\n",
       "<p>an object for which a summary is desired.</p>\n",
       "</td></tr>\n",
       "<tr><td><code id=\"summary_:_x\">x</code></td>\n",
       "<td>\n",
       "<p>a result of the <em>default</em> method of <code>summary()</code>.</p>\n",
       "</td></tr>\n",
       "<tr><td><code id=\"summary_:_maxsum\">maxsum</code></td>\n",
       "<td>\n",
       "<p>integer, indicating how many levels should be shown for\n",
       "<code>factor</code>s.</p>\n",
       "</td></tr>\n",
       "<tr><td><code id=\"summary_:_digits\">digits</code></td>\n",
       "<td>\n",
       "<p>integer, used for number formatting with\n",
       "<code>signif()</code> (for <code>summary.default</code>) or\n",
       "<code>format()</code> (for <code>summary.data.frame</code>).  In\n",
       "<code>summary.default</code>, if not specified (i.e.,\n",
       "<code>missing(.)</code>), <code>signif()</code> will <em>not</em> be called\n",
       "anymore (since <span class=\"rlang\"><b>R</b></span> &gt;= 3.4.0, where the default has been changed to\n",
       "only round in the <code>print</code> and <code>format</code> methods).</p>\n",
       "</td></tr>\n",
       "<tr><td><code id=\"summary_:_quantile.type\">quantile.type</code></td>\n",
       "<td>\n",
       "<p>integer code used in <code>quantile(*, type=quantile.type)</code>\n",
       "for the default method.</p>\n",
       "</td></tr>\n",
       "<tr><td><code id=\"summary_:_...\">...</code></td>\n",
       "<td>\n",
       "<p>additional arguments affecting the summary produced.</p>\n",
       "</td></tr>\n",
       "</table>\n",
       "\n",
       "\n",
       "<h3>Details</h3>\n",
       "\n",
       "<p>For <code>factor</code>s, the frequency of the first <code>maxsum - 1</code>\n",
       "most frequent levels is shown, and the less frequent levels are\n",
       "summarized in <code>\"(Others)\"</code> (resulting in at most <code>maxsum</code>\n",
       "frequencies).\n",
       "</p>\n",
       "<p>The functions <code>summary.lm</code> and <code>summary.glm</code> are examples\n",
       "of particular methods which summarize the results produced by\n",
       "<code>lm</code> and <code>glm</code>.\n",
       "</p>\n",
       "\n",
       "\n",
       "<h3>Value</h3>\n",
       "\n",
       "<p>The form of the value returned by <code>summary</code> depends on the\n",
       "class of its argument.  See the documentation of the particular\n",
       "methods for details of what is produced by that method.\n",
       "</p>\n",
       "<p>The default method returns an object of class\n",
       "<code>c(\"summaryDefault\", \"table\")</code> which has specialized\n",
       "<code>format</code> and <code>print</code> methods.  The\n",
       "<code>factor</code> method returns an integer vector.\n",
       "</p>\n",
       "<p>The matrix and data frame methods return a matrix of class\n",
       "<code>\"table\"</code>, obtained by applying <code>summary</code> to each\n",
       "column and collating the results.\n",
       "</p>\n",
       "\n",
       "\n",
       "<h3>References</h3>\n",
       "\n",
       "<p>Chambers, J. M. and Hastie, T. J. (1992)\n",
       "<em>Statistical Models in S</em>.\n",
       "Wadsworth &amp; Brooks/Cole.\n",
       "</p>\n",
       "\n",
       "\n",
       "<h3>See Also</h3>\n",
       "\n",
       "<p><code>anova</code>,\n",
       "<code>summary.glm</code>,\n",
       "<code>summary.lm</code>.\n",
       "</p>\n",
       "\n",
       "\n",
       "<h3>Examples</h3>\n",
       "\n",
       "<pre><code class='language-R'>summary(attenu, digits = 4) #-&gt; summary.data.frame(...), default precision\n",
       "summary(attenu $ station, maxsum = 20) #-&gt; summary.factor(...)\n",
       "\n",
       "lst &lt;- unclass(attenu$station) &gt; 20 # logical with NAs\n",
       "## summary.default() for logicals -- different from *.factor:\n",
       "summary(lst)\n",
       "summary(as.factor(lst))\n",
       "</code></pre>\n",
       "\n",
       "<hr /><div style=\"text-align: center;\">[Package <em>base</em> version 4.3.3 ]</div>\n",
       "</div>"
      ],
      "text/latex": [
       "\\inputencoding{utf8}\n",
       "\\HeaderA{summary}{Object Summaries}{summary}\n",
       "\\aliasA{format.summaryDefault}{summary}{format.summaryDefault}\n",
       "\\aliasA{print.summaryDefault}{summary}{print.summaryDefault}\n",
       "\\methaliasA{summary.data.frame}{summary}{summary.data.frame}\n",
       "\\methaliasA{summary.default}{summary}{summary.default}\n",
       "\\methaliasA{summary.factor}{summary}{summary.factor}\n",
       "\\methaliasA{summary.matrix}{summary}{summary.matrix}\n",
       "\\keyword{methods}{summary}\n",
       "%\n",
       "\\begin{Description}\n",
       "\\code{summary} is a generic function used to produce result summaries\n",
       "of the results of various model fitting functions.  The function\n",
       "invokes particular \\code{\\LinkA{methods}{methods}} which depend on the\n",
       "\\code{\\LinkA{class}{class}} of the first argument.\n",
       "\\end{Description}\n",
       "%\n",
       "\\begin{Usage}\n",
       "\\begin{verbatim}\n",
       "summary(object, ...)\n",
       "\n",
       "## Default S3 method:\n",
       "summary(object, ..., digits, quantile.type = 7)\n",
       "## S3 method for class 'data.frame'\n",
       "summary(object, maxsum = 7,\n",
       "       digits = max(3, getOption(\"digits\")-3), ...)\n",
       "\n",
       "## S3 method for class 'factor'\n",
       "summary(object, maxsum = 100, ...)\n",
       "\n",
       "## S3 method for class 'matrix'\n",
       "summary(object, ...)\n",
       "\n",
       "## S3 method for class 'summaryDefault'\n",
       "format(x, digits = max(3L, getOption(\"digits\") - 3L), ...)\n",
       " ## S3 method for class 'summaryDefault'\n",
       "print(x, digits = max(3L, getOption(\"digits\") - 3L), ...)\n",
       "\\end{verbatim}\n",
       "\\end{Usage}\n",
       "%\n",
       "\\begin{Arguments}\n",
       "\\begin{ldescription}\n",
       "\\item[\\code{object}] an object for which a summary is desired.\n",
       "\\item[\\code{x}] a result of the \\emph{default} method of \\code{summary()}.\n",
       "\\item[\\code{maxsum}] integer, indicating how many levels should be shown for\n",
       "\\code{\\LinkA{factor}{factor}}s.\n",
       "\\item[\\code{digits}] integer, used for number formatting with\n",
       "\\code{\\LinkA{signif}{signif}()} (for \\code{summary.default}) or\n",
       "\\code{\\LinkA{format}{format}()} (for \\code{summary.data.frame}).  In\n",
       "\\code{summary.default}, if not specified (i.e.,\n",
       "\\code{\\LinkA{missing}{missing}(.)}), \\code{signif()} will \\emph{not} be called\n",
       "anymore (since \\R{} >= 3.4.0, where the default has been changed to\n",
       "only round in the \\code{print} and \\code{format} methods).\n",
       "\\item[\\code{quantile.type}] integer code used in \\code{quantile(*, type=quantile.type)}\n",
       "for the default method.\n",
       "\\item[\\code{...}] additional arguments affecting the summary produced.\n",
       "\\end{ldescription}\n",
       "\\end{Arguments}\n",
       "%\n",
       "\\begin{Details}\n",
       "For \\code{\\LinkA{factor}{factor}}s, the frequency of the first \\code{maxsum - 1}\n",
       "most frequent levels is shown, and the less frequent levels are\n",
       "summarized in \\code{\"(Others)\"} (resulting in at most \\code{maxsum}\n",
       "frequencies).\n",
       "\n",
       "The functions \\code{summary.lm} and \\code{summary.glm} are examples\n",
       "of particular methods which summarize the results produced by\n",
       "\\code{\\LinkA{lm}{lm}} and \\code{\\LinkA{glm}{glm}}.\n",
       "\\end{Details}\n",
       "%\n",
       "\\begin{Value}\n",
       "The form of the value returned by \\code{summary} depends on the\n",
       "class of its argument.  See the documentation of the particular\n",
       "methods for details of what is produced by that method.\n",
       "\n",
       "The default method returns an object of class\n",
       "\\code{c(\"summaryDefault\", \"\\LinkA{table}{table}\")} which has specialized\n",
       "\\code{\\LinkA{format}{format}} and \\code{\\LinkA{print}{print}} methods.  The\n",
       "\\code{\\LinkA{factor}{factor}} method returns an integer vector.\n",
       "\n",
       "The matrix and data frame methods return a matrix of class\n",
       "\\code{\"\\LinkA{table}{table}\"}, obtained by applying \\code{summary} to each\n",
       "column and collating the results.\n",
       "\\end{Value}\n",
       "%\n",
       "\\begin{References}\n",
       "Chambers, J. M. and Hastie, T. J. (1992)\n",
       "\\emph{Statistical Models in S}.\n",
       "Wadsworth \\& Brooks/Cole.\n",
       "\\end{References}\n",
       "%\n",
       "\\begin{SeeAlso}\n",
       "\\code{\\LinkA{anova}{anova}},\n",
       "\\code{\\LinkA{summary.glm}{summary.glm}},\n",
       "\\code{\\LinkA{summary.lm}{summary.lm}}.\n",
       "\\end{SeeAlso}\n",
       "%\n",
       "\\begin{Examples}\n",
       "\\begin{ExampleCode}\n",
       "summary(attenu, digits = 4) #-> summary.data.frame(...), default precision\n",
       "summary(attenu $ station, maxsum = 20) #-> summary.factor(...)\n",
       "\n",
       "lst <- unclass(attenu$station) > 20 # logical with NAs\n",
       "## summary.default() for logicals -- different from *.factor:\n",
       "summary(lst)\n",
       "summary(as.factor(lst))\n",
       "\\end{ExampleCode}\n",
       "\\end{Examples}"
      ],
      "text/plain": [
       "summary                  package:base                  R Documentation\n",
       "\n",
       "_\bO_\bb_\bj_\be_\bc_\bt _\bS_\bu_\bm_\bm_\ba_\br_\bi_\be_\bs\n",
       "\n",
       "_\bD_\be_\bs_\bc_\br_\bi_\bp_\bt_\bi_\bo_\bn:\n",
       "\n",
       "     ‘summary’ is a generic function used to produce result summaries\n",
       "     of the results of various model fitting functions.  The function\n",
       "     invokes particular ‘methods’ which depend on the ‘class’ of the\n",
       "     first argument.\n",
       "\n",
       "_\bU_\bs_\ba_\bg_\be:\n",
       "\n",
       "     summary(object, ...)\n",
       "     \n",
       "     ## Default S3 method:\n",
       "     summary(object, ..., digits, quantile.type = 7)\n",
       "     ## S3 method for class 'data.frame'\n",
       "     summary(object, maxsum = 7,\n",
       "            digits = max(3, getOption(\"digits\")-3), ...)\n",
       "     \n",
       "     ## S3 method for class 'factor'\n",
       "     summary(object, maxsum = 100, ...)\n",
       "     \n",
       "     ## S3 method for class 'matrix'\n",
       "     summary(object, ...)\n",
       "     \n",
       "     ## S3 method for class 'summaryDefault'\n",
       "     format(x, digits = max(3L, getOption(\"digits\") - 3L), ...)\n",
       "      ## S3 method for class 'summaryDefault'\n",
       "     print(x, digits = max(3L, getOption(\"digits\") - 3L), ...)\n",
       "     \n",
       "_\bA_\br_\bg_\bu_\bm_\be_\bn_\bt_\bs:\n",
       "\n",
       "  object: an object for which a summary is desired.\n",
       "\n",
       "       x: a result of the _default_ method of ‘summary()’.\n",
       "\n",
       "  maxsum: integer, indicating how many levels should be shown for\n",
       "          ‘factor’s.\n",
       "\n",
       "  digits: integer, used for number formatting with ‘signif()’ (for\n",
       "          ‘summary.default’) or ‘format()’ (for ‘summary.data.frame’).\n",
       "          In ‘summary.default’, if not specified (i.e., ‘missing(.)’),\n",
       "          ‘signif()’ will _not_ be called anymore (since R >= 3.4.0,\n",
       "          where the default has been changed to only round in the\n",
       "          ‘print’ and ‘format’ methods).\n",
       "\n",
       "quantile.type: integer code used in ‘quantile(*, type=quantile.type)’\n",
       "          for the default method.\n",
       "\n",
       "     ...: additional arguments affecting the summary produced.\n",
       "\n",
       "_\bD_\be_\bt_\ba_\bi_\bl_\bs:\n",
       "\n",
       "     For ‘factor’s, the frequency of the first ‘maxsum - 1’ most\n",
       "     frequent levels is shown, and the less frequent levels are\n",
       "     summarized in ‘\"(Others)\"’ (resulting in at most ‘maxsum’\n",
       "     frequencies).\n",
       "\n",
       "     The functions ‘summary.lm’ and ‘summary.glm’ are examples of\n",
       "     particular methods which summarize the results produced by ‘lm’\n",
       "     and ‘glm’.\n",
       "\n",
       "_\bV_\ba_\bl_\bu_\be:\n",
       "\n",
       "     The form of the value returned by ‘summary’ depends on the class\n",
       "     of its argument.  See the documentation of the particular methods\n",
       "     for details of what is produced by that method.\n",
       "\n",
       "     The default method returns an object of class ‘c(\"summaryDefault\",\n",
       "     \"table\")’ which has specialized ‘format’ and ‘print’ methods.  The\n",
       "     ‘factor’ method returns an integer vector.\n",
       "\n",
       "     The matrix and data frame methods return a matrix of class\n",
       "     ‘\"table\"’, obtained by applying ‘summary’ to each column and\n",
       "     collating the results.\n",
       "\n",
       "_\bR_\be_\bf_\be_\br_\be_\bn_\bc_\be_\bs:\n",
       "\n",
       "     Chambers, J. M. and Hastie, T. J. (1992) _Statistical Models in\n",
       "     S_.  Wadsworth & Brooks/Cole.\n",
       "\n",
       "_\bS_\be_\be _\bA_\bl_\bs_\bo:\n",
       "\n",
       "     ‘anova’, ‘summary.glm’, ‘summary.lm’.\n",
       "\n",
       "_\bE_\bx_\ba_\bm_\bp_\bl_\be_\bs:\n",
       "\n",
       "     summary(attenu, digits = 4) #-> summary.data.frame(...), default precision\n",
       "     summary(attenu $ station, maxsum = 20) #-> summary.factor(...)\n",
       "     \n",
       "     lst <- unclass(attenu$station) > 20 # logical with NAs\n",
       "     ## summary.default() for logicals -- different from *.factor:\n",
       "     summary(lst)\n",
       "     summary(as.factor(lst))\n",
       "     "
      ]
     },
     "metadata": {},
     "output_type": "display_data"
    }
   ],
   "source": [
    "############################################################################################\n",
    "\n",
    "# Getting additional support\n",
    "help(summary)\n",
    "\n",
    "############################################################################################"
   ]
  },
  {
   "cell_type": "markdown",
   "id": "d4dba7b0-7be8-4beb-bf66-67b28be1ffcd",
   "metadata": {},
   "source": [
    "This command will open the help file, where you can find descriptions of the function's features, examples of how to use it, and links to additional resources. This is a valuable tool for understanding and effectively using the `summary` function in your data analysis."
   ]
  },
  {
   "cell_type": "markdown",
   "id": "c1845cae-6786-48ac-a08a-c4eb81920068",
   "metadata": {},
   "source": [
    "## It's Okay Not to Know Everything Immediately\n",
    "\n",
    "- **Learning Curve**: It's completely normal for some functions or concepts in R to feel advanced or challenging at first. R programming, like any other skill, has a learning curve.\n",
    "- **Repeated Lookup is Normal**: Even experienced R programmers look up functions and syntax regularly. The key to becoming proficient in programming isn't memorizing every command but knowing how to find the information you need.\n",
    "- **Effective Googling**: Learning to program effectively is as much about developing good Googling skills as it is about understanding the syntax. Knowing what keywords to search for, reading documentation, and finding solutions on forums like Stack Overflow are invaluable skills.\n",
    "- **Developing Intuition**: Over time, you'll develop an intuition for programming. This includes understanding which functions to use, how to troubleshoot errors, and how to navigate through documentation or seek help online."
   ]
  }
 ],
 "metadata": {
  "kernelspec": {
   "display_name": "R",
   "language": "R",
   "name": "ir"
  },
  "language_info": {
   "codemirror_mode": "r",
   "file_extension": ".r",
   "mimetype": "text/x-r-source",
   "name": "R",
   "pygments_lexer": "r",
   "version": "4.3.3"
  }
 },
 "nbformat": 4,
 "nbformat_minor": 5
}
