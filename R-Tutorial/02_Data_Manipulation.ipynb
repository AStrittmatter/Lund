{
 "cells": [
  {
   "cell_type": "markdown",
   "id": "1bf52692-8c55-41cc-b0ed-5abb4ee11671",
   "metadata": {},
   "source": [
    "# **Data Manipulation in R**\n",
    "\n",
    "Data manipulation is essential for cleaning, transforming, and preparing data for analysis. In R, a common approach for data manipulation is using the `dplyr` package, which is included in the `tidyverse`. This tutorial provides examples of common data manipulation tasks using the `dplyr` package, applied to the `flights` dataset from the `nycflights13` package.s"
   ]
  },
  {
   "cell_type": "markdown",
   "id": "ac6c543d-9eb2-45df-8f14-d57347166bfd",
   "metadata": {},
   "source": [
    "## Loading the Packages\n",
    "\n",
    "First, we need to load the necessary packages."
   ]
  },
  {
   "cell_type": "code",
   "execution_count": 1,
   "id": "4680790f-d2ec-4c23-9f4d-9b6fb24314d6",
   "metadata": {
    "collapsed": true,
    "jupyter": {
     "outputs_hidden": true
    }
   },
   "outputs": [
    {
     "name": "stderr",
     "output_type": "stream",
     "text": [
      "── \u001b[1mAttaching core tidyverse packages\u001b[22m ──────────────────────── tidyverse 2.0.0 ──\n",
      "\u001b[32m✔\u001b[39m \u001b[34mdplyr    \u001b[39m 1.1.4     \u001b[32m✔\u001b[39m \u001b[34mreadr    \u001b[39m 2.1.5\n",
      "\u001b[32m✔\u001b[39m \u001b[34mforcats  \u001b[39m 1.0.0     \u001b[32m✔\u001b[39m \u001b[34mstringr  \u001b[39m 1.5.1\n",
      "\u001b[32m✔\u001b[39m \u001b[34mggplot2  \u001b[39m 3.5.1     \u001b[32m✔\u001b[39m \u001b[34mtibble   \u001b[39m 3.2.1\n",
      "\u001b[32m✔\u001b[39m \u001b[34mlubridate\u001b[39m 1.9.3     \u001b[32m✔\u001b[39m \u001b[34mtidyr    \u001b[39m 1.3.1\n",
      "\u001b[32m✔\u001b[39m \u001b[34mpurrr    \u001b[39m 1.0.2     \n",
      "── \u001b[1mConflicts\u001b[22m ────────────────────────────────────────── tidyverse_conflicts() ──\n",
      "\u001b[31m✖\u001b[39m \u001b[34mdplyr\u001b[39m::\u001b[32mfilter()\u001b[39m masks \u001b[34mstats\u001b[39m::filter()\n",
      "\u001b[31m✖\u001b[39m \u001b[34mdplyr\u001b[39m::\u001b[32mlag()\u001b[39m    masks \u001b[34mstats\u001b[39m::lag()\n",
      "\u001b[36mℹ\u001b[39m Use the conflicted package (\u001b[3m\u001b[34m<http://conflicted.r-lib.org/>\u001b[39m\u001b[23m) to force all conflicts to become errors\n"
     ]
    },
    {
     "name": "stdout",
     "output_type": "stream",
     "text": [
      "[1] \"packages loaded\"\n"
     ]
    }
   ],
   "source": [
    "############################################################################################\n",
    "\n",
    "# Load the tidyverse package, a collection of R packages for data science\n",
    "library(tidyverse)\n",
    "\n",
    "# Load the nycflights13 package, which includes the flights dataset\n",
    "library(nycflights13)\n",
    "\n",
    "print(\"packages loaded\")\n",
    "\n",
    "############################################################################################"
   ]
  },
  {
   "cell_type": "markdown",
   "id": "c818e3d7-798b-4ce9-ac2f-351be2b38afd",
   "metadata": {},
   "source": [
    "## Filtering Rows\n",
    "\n",
    "To filter rows based on specific conditions, use the `filter()` function. For example, to find flights with a departure delay greater than 60 minutes:"
   ]
  },
  {
   "cell_type": "code",
   "execution_count": 2,
   "id": "2f3b922c-f406-45f4-9d3a-278954b4f910",
   "metadata": {
    "collapsed": true,
    "jupyter": {
     "outputs_hidden": true
    }
   },
   "outputs": [
    {
     "data": {
      "text/html": [
       "<table class=\"dataframe\">\n",
       "<caption>A tibble: 6 × 19</caption>\n",
       "<thead>\n",
       "\t<tr><th scope=col>year</th><th scope=col>month</th><th scope=col>day</th><th scope=col>dep_time</th><th scope=col>sched_dep_time</th><th scope=col>dep_delay</th><th scope=col>arr_time</th><th scope=col>sched_arr_time</th><th scope=col>arr_delay</th><th scope=col>carrier</th><th scope=col>flight</th><th scope=col>tailnum</th><th scope=col>origin</th><th scope=col>dest</th><th scope=col>air_time</th><th scope=col>distance</th><th scope=col>hour</th><th scope=col>minute</th><th scope=col>time_hour</th></tr>\n",
       "\t<tr><th scope=col>&lt;int&gt;</th><th scope=col>&lt;int&gt;</th><th scope=col>&lt;int&gt;</th><th scope=col>&lt;int&gt;</th><th scope=col>&lt;int&gt;</th><th scope=col>&lt;dbl&gt;</th><th scope=col>&lt;int&gt;</th><th scope=col>&lt;int&gt;</th><th scope=col>&lt;dbl&gt;</th><th scope=col>&lt;chr&gt;</th><th scope=col>&lt;int&gt;</th><th scope=col>&lt;chr&gt;</th><th scope=col>&lt;chr&gt;</th><th scope=col>&lt;chr&gt;</th><th scope=col>&lt;dbl&gt;</th><th scope=col>&lt;dbl&gt;</th><th scope=col>&lt;dbl&gt;</th><th scope=col>&lt;dbl&gt;</th><th scope=col>&lt;dttm&gt;</th></tr>\n",
       "</thead>\n",
       "<tbody>\n",
       "\t<tr><td>2013</td><td>1</td><td>1</td><td> 811</td><td> 630</td><td>101</td><td>1047</td><td> 830</td><td>137</td><td>MQ</td><td>4576</td><td>N531MQ</td><td>LGA</td><td>CLT</td><td>118</td><td> 544</td><td> 6</td><td>30</td><td>2013-01-01 06:00:00</td></tr>\n",
       "\t<tr><td>2013</td><td>1</td><td>1</td><td> 826</td><td> 715</td><td> 71</td><td>1136</td><td>1045</td><td> 51</td><td>AA</td><td> 443</td><td>N3GVAA</td><td>JFK</td><td>MIA</td><td>160</td><td>1089</td><td> 7</td><td>15</td><td>2013-01-01 07:00:00</td></tr>\n",
       "\t<tr><td>2013</td><td>1</td><td>1</td><td> 848</td><td>1835</td><td>853</td><td>1001</td><td>1950</td><td>851</td><td>MQ</td><td>3944</td><td>N942MQ</td><td>JFK</td><td>BWI</td><td> 41</td><td> 184</td><td>18</td><td>35</td><td>2013-01-01 18:00:00</td></tr>\n",
       "\t<tr><td>2013</td><td>1</td><td>1</td><td> 957</td><td> 733</td><td>144</td><td>1056</td><td> 853</td><td>123</td><td>UA</td><td> 856</td><td>N534UA</td><td>EWR</td><td>BOS</td><td> 37</td><td> 200</td><td> 7</td><td>33</td><td>2013-01-01 07:00:00</td></tr>\n",
       "\t<tr><td>2013</td><td>1</td><td>1</td><td>1114</td><td> 900</td><td>134</td><td>1447</td><td>1222</td><td>145</td><td>UA</td><td>1086</td><td>N76502</td><td>LGA</td><td>IAH</td><td>248</td><td>1416</td><td> 9</td><td> 0</td><td>2013-01-01 09:00:00</td></tr>\n",
       "\t<tr><td>2013</td><td>1</td><td>1</td><td>1120</td><td> 944</td><td> 96</td><td>1331</td><td>1213</td><td> 78</td><td>EV</td><td>4495</td><td>N16561</td><td>EWR</td><td>SAV</td><td>117</td><td> 708</td><td> 9</td><td>44</td><td>2013-01-01 09:00:00</td></tr>\n",
       "</tbody>\n",
       "</table>\n"
      ],
      "text/latex": [
       "A tibble: 6 × 19\n",
       "\\begin{tabular}{lllllllllllllllllll}\n",
       " year & month & day & dep\\_time & sched\\_dep\\_time & dep\\_delay & arr\\_time & sched\\_arr\\_time & arr\\_delay & carrier & flight & tailnum & origin & dest & air\\_time & distance & hour & minute & time\\_hour\\\\\n",
       " <int> & <int> & <int> & <int> & <int> & <dbl> & <int> & <int> & <dbl> & <chr> & <int> & <chr> & <chr> & <chr> & <dbl> & <dbl> & <dbl> & <dbl> & <dttm>\\\\\n",
       "\\hline\n",
       "\t 2013 & 1 & 1 &  811 &  630 & 101 & 1047 &  830 & 137 & MQ & 4576 & N531MQ & LGA & CLT & 118 &  544 &  6 & 30 & 2013-01-01 06:00:00\\\\\n",
       "\t 2013 & 1 & 1 &  826 &  715 &  71 & 1136 & 1045 &  51 & AA &  443 & N3GVAA & JFK & MIA & 160 & 1089 &  7 & 15 & 2013-01-01 07:00:00\\\\\n",
       "\t 2013 & 1 & 1 &  848 & 1835 & 853 & 1001 & 1950 & 851 & MQ & 3944 & N942MQ & JFK & BWI &  41 &  184 & 18 & 35 & 2013-01-01 18:00:00\\\\\n",
       "\t 2013 & 1 & 1 &  957 &  733 & 144 & 1056 &  853 & 123 & UA &  856 & N534UA & EWR & BOS &  37 &  200 &  7 & 33 & 2013-01-01 07:00:00\\\\\n",
       "\t 2013 & 1 & 1 & 1114 &  900 & 134 & 1447 & 1222 & 145 & UA & 1086 & N76502 & LGA & IAH & 248 & 1416 &  9 &  0 & 2013-01-01 09:00:00\\\\\n",
       "\t 2013 & 1 & 1 & 1120 &  944 &  96 & 1331 & 1213 &  78 & EV & 4495 & N16561 & EWR & SAV & 117 &  708 &  9 & 44 & 2013-01-01 09:00:00\\\\\n",
       "\\end{tabular}\n"
      ],
      "text/markdown": [
       "\n",
       "A tibble: 6 × 19\n",
       "\n",
       "| year &lt;int&gt; | month &lt;int&gt; | day &lt;int&gt; | dep_time &lt;int&gt; | sched_dep_time &lt;int&gt; | dep_delay &lt;dbl&gt; | arr_time &lt;int&gt; | sched_arr_time &lt;int&gt; | arr_delay &lt;dbl&gt; | carrier &lt;chr&gt; | flight &lt;int&gt; | tailnum &lt;chr&gt; | origin &lt;chr&gt; | dest &lt;chr&gt; | air_time &lt;dbl&gt; | distance &lt;dbl&gt; | hour &lt;dbl&gt; | minute &lt;dbl&gt; | time_hour &lt;dttm&gt; |\n",
       "|---|---|---|---|---|---|---|---|---|---|---|---|---|---|---|---|---|---|---|\n",
       "| 2013 | 1 | 1 |  811 |  630 | 101 | 1047 |  830 | 137 | MQ | 4576 | N531MQ | LGA | CLT | 118 |  544 |  6 | 30 | 2013-01-01 06:00:00 |\n",
       "| 2013 | 1 | 1 |  826 |  715 |  71 | 1136 | 1045 |  51 | AA |  443 | N3GVAA | JFK | MIA | 160 | 1089 |  7 | 15 | 2013-01-01 07:00:00 |\n",
       "| 2013 | 1 | 1 |  848 | 1835 | 853 | 1001 | 1950 | 851 | MQ | 3944 | N942MQ | JFK | BWI |  41 |  184 | 18 | 35 | 2013-01-01 18:00:00 |\n",
       "| 2013 | 1 | 1 |  957 |  733 | 144 | 1056 |  853 | 123 | UA |  856 | N534UA | EWR | BOS |  37 |  200 |  7 | 33 | 2013-01-01 07:00:00 |\n",
       "| 2013 | 1 | 1 | 1114 |  900 | 134 | 1447 | 1222 | 145 | UA | 1086 | N76502 | LGA | IAH | 248 | 1416 |  9 |  0 | 2013-01-01 09:00:00 |\n",
       "| 2013 | 1 | 1 | 1120 |  944 |  96 | 1331 | 1213 |  78 | EV | 4495 | N16561 | EWR | SAV | 117 |  708 |  9 | 44 | 2013-01-01 09:00:00 |\n",
       "\n"
      ],
      "text/plain": [
       "  year month day dep_time sched_dep_time dep_delay arr_time sched_arr_time\n",
       "1 2013 1     1    811      630           101       1047      830          \n",
       "2 2013 1     1    826      715            71       1136     1045          \n",
       "3 2013 1     1    848     1835           853       1001     1950          \n",
       "4 2013 1     1    957      733           144       1056      853          \n",
       "5 2013 1     1   1114      900           134       1447     1222          \n",
       "6 2013 1     1   1120      944            96       1331     1213          \n",
       "  arr_delay carrier flight tailnum origin dest air_time distance hour minute\n",
       "1 137       MQ      4576   N531MQ  LGA    CLT  118       544      6   30    \n",
       "2  51       AA       443   N3GVAA  JFK    MIA  160      1089      7   15    \n",
       "3 851       MQ      3944   N942MQ  JFK    BWI   41       184     18   35    \n",
       "4 123       UA       856   N534UA  EWR    BOS   37       200      7   33    \n",
       "5 145       UA      1086   N76502  LGA    IAH  248      1416      9    0    \n",
       "6  78       EV      4495   N16561  EWR    SAV  117       708      9   44    \n",
       "  time_hour          \n",
       "1 2013-01-01 06:00:00\n",
       "2 2013-01-01 07:00:00\n",
       "3 2013-01-01 18:00:00\n",
       "4 2013-01-01 07:00:00\n",
       "5 2013-01-01 09:00:00\n",
       "6 2013-01-01 09:00:00"
      ]
     },
     "metadata": {},
     "output_type": "display_data"
    }
   ],
   "source": [
    "############################################################################################\n",
    "\n",
    "# Filtering flights with a departure delay greater than 60 minutes\n",
    "filtered_flights <- filter(flights, dep_delay > 60)\n",
    "head(filtered_flights)\n",
    "\n",
    "############################################################################################"
   ]
  },
  {
   "cell_type": "markdown",
   "id": "14463ab5-6003-431d-b9be-8aa78b56bafc",
   "metadata": {},
   "source": [
    "This command creates a new dataset, `filtered_flights`, which contains only the rows where the departure delay (`dep_delay`) is greater than 60 minutes."
   ]
  },
  {
   "cell_type": "markdown",
   "id": "4333cc41-5124-4ca0-b1a3-db1f21065890",
   "metadata": {},
   "source": [
    "**Exercise:** Using the `flights` dataset, filter for flights that were delayed by more than 2 hours on arrival. How many such flights are there? Fill in the `???` in the code below to complete the exercises."
   ]
  },
  {
   "cell_type": "code",
   "execution_count": 3,
   "id": "032907eb-7fcb-4a25-a657-d71f47940bc1",
   "metadata": {
    "collapsed": true,
    "jupyter": {
     "outputs_hidden": true
    }
   },
   "outputs": [
    {
     "ename": "ERROR",
     "evalue": "Error in parse(text = x, srcfile = src): <text>:4:51: unexpected ')'\n3: # Filtering flights with an arrival delay greater than 2 hours\n4: delayed_flights <- filter(flights, arr_delay > ???)\n                                                     ^\n",
     "output_type": "error",
     "traceback": [
      "Error in parse(text = x, srcfile = src): <text>:4:51: unexpected ')'\n3: # Filtering flights with an arrival delay greater than 2 hours\n4: delayed_flights <- filter(flights, arr_delay > ???)\n                                                     ^\nTraceback:\n"
     ]
    }
   ],
   "source": [
    "############################################################################################\n",
    "\n",
    "# Filtering flights with an arrival delay greater than 2 hours\n",
    "delayed_flights <- filter(flights, arr_delay > ???)\n",
    "nrow(delayed_flights)\n",
    "\n",
    "############################################################################################"
   ]
  },
  {
   "cell_type": "markdown",
   "id": "761924ee-6c6b-45da-91b8-99b2b330e617",
   "metadata": {},
   "source": [
    "**Answer:** 123096"
   ]
  },
  {
   "cell_type": "markdown",
   "id": "5130d82c-ab5a-4b74-8f86-751b38e671c7",
   "metadata": {},
   "source": [
    "## Selecting Columns\n",
    "\n",
    "To select specific columns from the dataset, use the `select()` function. For example, to select the `dep_delay` and `arr_delay` columns:"
   ]
  },
  {
   "cell_type": "code",
   "execution_count": null,
   "id": "0424ee7b-4e43-4100-a473-cef071350890",
   "metadata": {
    "collapsed": true,
    "jupyter": {
     "outputs_hidden": true
    }
   },
   "outputs": [],
   "source": [
    "############################################################################################\n",
    "\n",
    "# Selecting the columns 'dep_delay' and 'arr_delay'\n",
    "selected_columns <- select(flights, dep_delay, arr_delay)\n",
    "head(selected_columns)\n",
    "\n",
    "############################################################################################"
   ]
  },
  {
   "cell_type": "markdown",
   "id": "9d9b5701-a310-4c58-9cd8-4e717f5430a3",
   "metadata": {},
   "source": [
    "This command creates a new dataset, `selected_columns`, which contains only the `dep_delay` and `arr_delay` columns from the original `flights` dataset."
   ]
  },
  {
   "cell_type": "markdown",
   "id": "f5624db6-05c3-426c-81d1-f3d8f46f52a3",
   "metadata": {},
   "source": [
    "## Creating New Columns\n",
    "\n",
    "To create new columns, use the `mutate()` function. For example, to create a new column `total_delay` that is the sum of `dep_delay` and `arr_delay`:"
   ]
  },
  {
   "cell_type": "code",
   "execution_count": null,
   "id": "58a08774-aa4d-457c-acbf-d33ffb291f06",
   "metadata": {
    "collapsed": true,
    "jupyter": {
     "outputs_hidden": true
    }
   },
   "outputs": [],
   "source": [
    "############################################################################################\n",
    "\n",
    "# Creating a new column 'total_delay'\n",
    "selected_columns <- mutate(selected_columns, total_delay = dep_delay + arr_delay)\n",
    "head(selected_columns)\n",
    "\n",
    "############################################################################################"
   ]
  },
  {
   "cell_type": "markdown",
   "id": "acf7c84d-a435-46f3-b5bb-354fc440c493",
   "metadata": {},
   "source": [
    "This command manipulates the `selected_columns` dataset, such that it includes all the original columns plus a new column `total_delay` that contains the sum of `dep_delay` and `arr_delay` for each flight."
   ]
  },
  {
   "cell_type": "markdown",
   "id": "2d8bbce4-f433-4e1a-940f-b9d4108e4512",
   "metadata": {},
   "source": [
    "**Exercise:** Create a data set `selected_columns` that contains air time and departure delay. Create a new column in the `selected_columns` dataset that calculates the total fuel consumption for each flight. Assume that each minute of air time consumes 2.5 units of fuel and each minute of delay consumes an additional 0.5 units of fuel. What is the total fuel consumption for the flight in the first row?\n",
    "\n",
    "Fill in the `???` in the code below to complete the exercise."
   ]
  },
  {
   "cell_type": "code",
   "execution_count": null,
   "id": "cb578c20-10c2-4f53-b277-885892dce058",
   "metadata": {
    "collapsed": true,
    "jupyter": {
     "outputs_hidden": true
    }
   },
   "outputs": [],
   "source": [
    "############################################################################################\n",
    "# Selecting the columns 'dep_delay' and 'arr_delay'\n",
    "selected_columns <- select(flights, ???, ???)\n",
    "\n",
    "# Creating a new column 'total_fuel_consumption'\n",
    "selected_columns <- mutate(???, total_fuel_consumption = (??? * 2.5) + (??? * 0.5))\n",
    "head(selected_columns)\n",
    "\n",
    "############################################################################################"
   ]
  },
  {
   "cell_type": "markdown",
   "id": "1577d7ae-accf-4b5b-a046-a6aa68b19367",
   "metadata": {},
   "source": [
    "**Answer:** 568.5"
   ]
  },
  {
   "cell_type": "markdown",
   "id": "cee11ef4-333b-4ff7-8d84-c85d49a43a71",
   "metadata": {},
   "source": [
    "## Arranging Rows\n",
    "\n",
    "To sort the rows of the dataset, use the `arrange()` function. For example, to sort flights by departure delay in descending order:"
   ]
  },
  {
   "cell_type": "code",
   "execution_count": null,
   "id": "6a3f2f58-4524-4a50-8e80-6cf07818068b",
   "metadata": {
    "collapsed": true,
    "jupyter": {
     "outputs_hidden": true
    }
   },
   "outputs": [],
   "source": [
    "############################################################################################\n",
    "\n",
    "# Sorting flights by departure delay in descending order\n",
    "sorted_flights <- arrange(flights, desc(dep_delay))\n",
    "head(sorted_flights)\n",
    "\n",
    "############################################################################################"
   ]
  },
  {
   "cell_type": "markdown",
   "id": "62ceba6d-6e4b-4f48-bf2e-27001c07c6e9",
   "metadata": {},
   "source": [
    "This command creates a new dataset, `sorted_flights`, which contains all the rows from the original `flights` dataset sorted by `dep_delay` in descending order."
   ]
  },
  {
   "cell_type": "markdown",
   "id": "bf89d9a8-4d77-4884-bb60-8c4d5ca7ee66",
   "metadata": {},
   "source": [
    "**Exercise:** Arrange the `flights` dataset by departure delay in ascending order. How many minutes is the maximum early departure time? Fill in the `???` in the code below to complete the exercises."
   ]
  },
  {
   "cell_type": "code",
   "execution_count": null,
   "id": "ea3514d2-1f88-4326-86de-0e6923559074",
   "metadata": {
    "collapsed": true,
    "jupyter": {
     "outputs_hidden": true
    }
   },
   "outputs": [],
   "source": [
    "############################################################################################\n",
    "\n",
    "# Sorting flights by departure delay in ascending order\n",
    "sorted_flights <- arrange(flights, ???)\n",
    "head(sorted_flights)\n",
    "\n",
    "############################################################################################"
   ]
  },
  {
   "cell_type": "markdown",
   "id": "b29ab304-2c55-43d5-b1f6-2ca9381fba68",
   "metadata": {},
   "source": [
    "**Answer:** 43 minutes early departure"
   ]
  },
  {
   "cell_type": "markdown",
   "id": "1c0a4b73-a764-4333-b771-eb7b99dd4608",
   "metadata": {},
   "source": [
    "## Dataframes vs. Matrices in R\n",
    "\n",
    "Understanding the difference between dataframes and matrices is important for data manipulation in R. Dataframes can store different types of data in each column, while matrices can only store one type of data. For example, a dataframe can have one column with numeric data, another column with character data, and another with factor data. In contrast, a matrix can only contain one data type (e.g., all numeric or all character)."
   ]
  },
  {
   "cell_type": "markdown",
   "id": "45859687-1712-4db0-b503-d782406e6086",
   "metadata": {},
   "source": [
    "### Converting a Dataframe to a Matrix\n",
    "\n",
    "The `flights` dataset is stored in a dataframe, and all transformations we have performed so far are for dataframes. If we were to transform the entire `flights` dataframe directly into a matrix, all variables would be converted to character variables because some variables are character strings. However, we want to work with numerical variables. Therefore, we first select the numerical variables `dep_delay`, `arr_delay`, and `air_time` and then transfer them to a matrix."
   ]
  },
  {
   "cell_type": "code",
   "execution_count": null,
   "id": "4c510405-854a-448b-81d1-bdcb3f06c808",
   "metadata": {
    "collapsed": true,
    "jupyter": {
     "outputs_hidden": true
    }
   },
   "outputs": [],
   "source": [
    "############################################################################################\n",
    "\n",
    "# Selecting a subset of the flights dataset with numerical variables\n",
    "df_flights <- select(flights, dep_delay, arr_delay, air_time)\n",
    "\n",
    "# Converting the dataframe to a matrix\n",
    "mat_flights <- as.matrix(df_flights)\n",
    "head(mat_flights)\n",
    "\n",
    "############################################################################################"
   ]
  },
  {
   "cell_type": "markdown",
   "id": "a0e237e1-1fbc-4d3c-a568-1ad46b005cbf",
   "metadata": {},
   "source": [
    "This command converts the dataframe `df_flights`, which contains the `dep_delay`, `arr_delay`, and `air_time` columns, into a matrix `mat_flights`. The resulting matrix retains the numerical values of these columns, making them suitable for mathematical operations."
   ]
  },
  {
   "cell_type": "markdown",
   "id": "0c0842e8-7fd0-483e-9e6a-ebe5dab43630",
   "metadata": {},
   "source": [
    "### Basic Matrix Manipulation\n",
    "\n",
    "#### **Accessing Elements**\n",
    "\n",
    "You can access elements in a matrix using row and column indices in squared brackets."
   ]
  },
  {
   "cell_type": "code",
   "execution_count": null,
   "id": "a29fdec2-8167-4a3c-bc43-f2e37a41c7ba",
   "metadata": {
    "collapsed": true,
    "jupyter": {
     "outputs_hidden": true
    }
   },
   "outputs": [],
   "source": [
    "############################################################################################\n",
    "\n",
    "# Accessing the element in the first row and second column\n",
    "mat_flights[1, 2]\n",
    "\n",
    "############################################################################################"
   ]
  },
  {
   "cell_type": "markdown",
   "id": "8ce22a8c-9bb2-4834-9d54-89ada005d813",
   "metadata": {},
   "source": [
    "This command accesses the element in the first row and second column of the matrix `mat_flights`."
   ]
  },
  {
   "cell_type": "markdown",
   "id": "06140a14-cba7-4211-98e7-aaccb21e8a7b",
   "metadata": {},
   "source": [
    "**Exercise:** Access specific elements in the matrix `mat_flights`. \n",
    "\n",
    "1. Access the element in the second row and third column. What is the value?\n",
    "2. Access the entire second column. What is the third value in this column?\n",
    "3. Access the entire third row. What is the sixth value in this row\n",
    "\n",
    "Fill in the `???` with the correct indices to access these values."
   ]
  },
  {
   "cell_type": "code",
   "execution_count": null,
   "id": "afc6610d-529d-420c-931b-7f53193c5128",
   "metadata": {
    "collapsed": true,
    "jupyter": {
     "outputs_hidden": true
    }
   },
   "outputs": [],
   "source": [
    "# Accessing the element in the second row and third column\n",
    "mat_flights[???, ???]\n",
    "\n",
    "# Accessing the entire second column\n",
    "head(mat_flights[, ???])\n",
    "\n",
    "# Accessing the entire third row\n",
    "head(mat_flights[???, ])"
   ]
  },
  {
   "cell_type": "markdown",
   "id": "4aa4f833-844a-496c-ab18-7230f33d2898",
   "metadata": {},
   "source": [
    "**Answers:**\n",
    "\n",
    "1. 227\n",
    "2. 33\n",
    "3. 24"
   ]
  },
  {
   "cell_type": "markdown",
   "id": "34a4e88d-fecc-492a-b955-b9e72fdfa32f",
   "metadata": {},
   "source": [
    "#### **Row and Column Operations**\n",
    "\n",
    "You can perform operations on rows and columns."
   ]
  },
  {
   "cell_type": "code",
   "execution_count": null,
   "id": "b1d7f7f1-30e0-4159-8d25-2dc5078d3c55",
   "metadata": {
    "collapsed": true,
    "jupyter": {
     "outputs_hidden": true
    }
   },
   "outputs": [],
   "source": [
    "############################################################################################\n",
    "\n",
    "# Calculating the row sums\n",
    "row_sums <- rowSums(mat_flights, na.rm = TRUE)\n",
    "\n",
    "# Adding the row sums as a new column to the matrix\n",
    "mat_flights <- cbind(mat_flights, row_sums)\n",
    "\n",
    "# Displaying the first few rows of the updated matrix\n",
    "head(mat_flights)\n",
    "\n",
    "############################################################################################"
   ]
  },
  {
   "cell_type": "markdown",
   "id": "ec9efaa6-b832-42ff-b395-37c8c8f5775b",
   "metadata": {},
   "source": [
    "This command calculates the sum of each row in the matrix `mat_flights`, ignoring any missing values (NAs). The row sums are then added as a new column to the original matrix. The `head()` function displays the first few rows of the updated matrix, showing the new column with the row sums."
   ]
  },
  {
   "cell_type": "code",
   "execution_count": null,
   "id": "ff66e2fd-d7b8-4d87-b13e-70ac44163c4e",
   "metadata": {
    "collapsed": true,
    "jupyter": {
     "outputs_hidden": true
    }
   },
   "outputs": [],
   "source": [
    "############################################################################################\n",
    "\n",
    "# Calculating the column means\n",
    "col_means <- colMeans(mat_flights, na.rm = TRUE)\n",
    "print(col_means)\n",
    "\n",
    "############################################################################################"
   ]
  },
  {
   "cell_type": "markdown",
   "id": "b9d455df-0984-4f90-8c22-9fa8e351c7db",
   "metadata": {},
   "source": [
    "This command calculate the mean of each column in the matrix `mat_flights`."
   ]
  },
  {
   "cell_type": "markdown",
   "id": "17260357-285e-4828-95a9-d81caab18f91",
   "metadata": {},
   "source": [
    "#### **Matrix Arithmetic**\n",
    "\n",
    "You can also perform arithmetic operations on matrices."
   ]
  },
  {
   "cell_type": "code",
   "execution_count": null,
   "id": "a9727105-3ea5-49c8-a256-77789a1dcb2c",
   "metadata": {
    "collapsed": true,
    "jupyter": {
     "outputs_hidden": true
    }
   },
   "outputs": [],
   "source": [
    "############################################################################################\n",
    "\n",
    "# Adding 10 to each element in the dep_delay column\n",
    "dep_delay_add <- mat_flights[,1] + 10\n",
    "\n",
    "# Multiplying each element in the arr_delay column by 2\n",
    "arr_delay_mult <- mat_flights[,2] * 2\n",
    "\n",
    "# Adding these new columns to the original matrix\n",
    "mat_flights <- cbind(mat_flights, dep_delay_add, arr_delay_mult)\n",
    "\n",
    "# Displaying the first few rows of the updated matrix\n",
    "head(mat_flights)\n",
    "\n",
    "############################################################################################"
   ]
  },
  {
   "cell_type": "markdown",
   "id": "395dc9e8-3a7f-42ae-9186-a65b9c260350",
   "metadata": {},
   "source": [
    "This command performs arithmetic operations on the matrix `mat_flights`. It adds 10 to each element in the `dep_delay` column and multiplies each element in the `arr_delay` column by 2. These new columns are then added to the original matrix. "
   ]
  },
  {
   "cell_type": "markdown",
   "id": "81ccf09d-0095-44b9-9ba8-d7d3d5f2089b",
   "metadata": {},
   "source": [
    "**Exercise:** Take the matrix created in the previous exercise and perform the following operations: subtract 5 from each element in the `dep_delay` column and divide each element in the `air_time` column by 2. Add these new columns to the matrix and display the first few rows of the updated matrix. Verify that the calculations are correct. \n",
    "\n",
    "Fill in the `???` in the code below to complete the exercises."
   ]
  },
  {
   "cell_type": "code",
   "execution_count": null,
   "id": "0f373500-5523-4e49-b26e-6a9754492247",
   "metadata": {
    "collapsed": true,
    "jupyter": {
     "outputs_hidden": true
    }
   },
   "outputs": [],
   "source": [
    "############################################################################################\n",
    "\n",
    "# Subtracting 5 from each element in the dep_delay column\n",
    "dep_delay_sub <- mat_flights[,1] - ???\n",
    "\n",
    "# Dividing each element in the air_time column by 2\n",
    "air_time_div <- mat_flights[,3] / ???\n",
    "\n",
    "# Adding these new columns to the original matrix\n",
    "mat_flights <- cbind(mat_flights, dep_delay_sub, air_time_div)\n",
    "\n",
    "# Displaying the first few rows of the updated matrix\n",
    "head(mat_flights)\n",
    "\n",
    "############################################################################################"
   ]
  },
  {
   "cell_type": "code",
   "execution_count": null,
   "id": "75177ca6-9f58-45d8-8343-1fbeadcafb65",
   "metadata": {
    "collapsed": true,
    "jupyter": {
     "outputs_hidden": true
    }
   },
   "outputs": [],
   "source": []
  }
 ],
 "metadata": {
  "kernelspec": {
   "display_name": "R",
   "language": "R",
   "name": "ir"
  },
  "language_info": {
   "codemirror_mode": "r",
   "file_extension": ".r",
   "mimetype": "text/x-r-source",
   "name": "R",
   "pygments_lexer": "r",
   "version": "4.3.3"
  }
 },
 "nbformat": 4,
 "nbformat_minor": 5
}
